{
 "cells": [
  {
   "cell_type": "markdown",
   "metadata": {},
   "source": [
    "# Capstone Project - The Battle of Neighborhoods"
   ]
  },
  {
   "cell_type": "markdown",
   "metadata": {},
   "source": [
    "### Problem definition & Data"
   ]
  },
  {
   "cell_type": "markdown",
   "metadata": {},
   "source": [
    "In my case, I would like to start a gym business in my city (Valencia) and, more precisely, in a new neighborhood of Valencia. \n",
    "\n",
    "People usually go to the closest gym of their neighborhoords so I will try to find a place with low density of gyms.\n",
    "\n",
    "In referenfe to the data, I am going to use Foursquare location data to know:\n",
    "\n",
    "1. Where are the gyms located\n",
    "2. Which is the valuation the clients give to them\n",
    "\n",
    "This will allow me to find the perfect place to  my gym."
   ]
  },
  {
   "cell_type": "code",
   "execution_count": null,
   "metadata": {},
   "outputs": [],
   "source": []
  }
 ],
 "metadata": {
  "kernelspec": {
   "display_name": "Python",
   "language": "python",
   "name": "conda-env-python-py"
  },
  "language_info": {
   "codemirror_mode": {
    "name": "ipython",
    "version": 3
   },
   "file_extension": ".py",
   "mimetype": "text/x-python",
   "name": "python",
   "nbconvert_exporter": "python",
   "pygments_lexer": "ipython3",
   "version": "3.6.12"
  }
 },
 "nbformat": 4,
 "nbformat_minor": 4
}
